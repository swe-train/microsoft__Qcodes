{
 "cells": [
  {
   "cell_type": "markdown",
   "metadata": {},
   "source": [
    "# DataSet Performance\n",
    "\n",
    "This notebook shows the trade-off between inserting data into a database row-by-row and as binary blobs. Inserting the data row-by-row means that we have direct access to all the data and may perform queries directly on the values of the data. On the other hand, as we shall see, this is much slower than inserting the data directly as binary blobs."
   ]
  },
  {
   "cell_type": "markdown",
   "metadata": {},
   "source": [
    "First, we choose a new location for the database to ensure that we don't add a bunch of benchmarking data to the default one."
   ]
  },
  {
   "cell_type": "code",
   "execution_count": 1,
   "metadata": {
    "execution": {
     "iopub.execute_input": "2024-05-21T06:11:42.694142Z",
     "iopub.status.busy": "2024-05-21T06:11:42.693972Z",
     "iopub.status.idle": "2024-05-21T06:11:43.543850Z",
     "shell.execute_reply": "2024-05-21T06:11:43.543199Z"
    }
   },
   "outputs": [
    {
     "name": "stdout",
     "output_type": "stream",
     "text": [
      "Logging hadn't been started.\n",
      "Activating auto-logging. Current session state plus future input saved.\n",
      "Filename       : /home/runner/.qcodes/logs/command_history.log\n",
      "Mode           : append\n",
      "Output logging : True\n",
      "Raw input log  : False\n",
      "Timestamping   : True\n",
      "State          : active\n"
     ]
    },
    {
     "name": "stdout",
     "output_type": "stream",
     "text": [
      "Qcodes Logfile : /home/runner/.qcodes/logs/240521-8418-qcodes.log\n"
     ]
    }
   ],
   "source": [
    "import os\n",
    "\n",
    "cwd = os.getcwd()\n",
    "import qcodes as qc\n",
    "\n",
    "qc.config[\"core\"][\"db_location\"] = os.path.join(cwd, 'testing.db')"
   ]
  },
  {
   "cell_type": "code",
   "execution_count": 2,
   "metadata": {
    "execution": {
     "iopub.execute_input": "2024-05-21T06:11:43.546183Z",
     "iopub.status.busy": "2024-05-21T06:11:43.545735Z",
     "iopub.status.idle": "2024-05-21T06:11:43.817343Z",
     "shell.execute_reply": "2024-05-21T06:11:43.816725Z"
    }
   },
   "outputs": [],
   "source": [
    "%matplotlib inline\n",
    "import time\n",
    "from pathlib import Path\n",
    "\n",
    "import matplotlib.pyplot as plt\n",
    "import numpy as np\n",
    "\n",
    "import qcodes as qc\n",
    "from qcodes.dataset import (\n",
    "    Measurement,\n",
    "    initialise_or_create_database_at,\n",
    "    load_or_create_experiment,\n",
    ")\n",
    "from qcodes.parameters import ManualParameter"
   ]
  },
  {
   "cell_type": "code",
   "execution_count": 3,
   "metadata": {
    "execution": {
     "iopub.execute_input": "2024-05-21T06:11:43.819853Z",
     "iopub.status.busy": "2024-05-21T06:11:43.819561Z",
     "iopub.status.idle": "2024-05-21T06:11:43.857168Z",
     "shell.execute_reply": "2024-05-21T06:11:43.856696Z"
    }
   },
   "outputs": [],
   "source": [
    "initialise_or_create_database_at(Path.cwd() / \"dataset_performance.db\")\n",
    "exp = load_or_create_experiment(experiment_name='tutorial_exp', sample_name=\"no sample\")"
   ]
  },
  {
   "cell_type": "markdown",
   "metadata": {},
   "source": [
    "Here, we define a simple function to benchmark the time it takes to insert n points with either numeric or array data type.\n",
    "We will compare both the time used to call ``add_result`` and the time used for the full measurement."
   ]
  },
  {
   "cell_type": "code",
   "execution_count": 4,
   "metadata": {
    "execution": {
     "iopub.execute_input": "2024-05-21T06:11:43.859743Z",
     "iopub.status.busy": "2024-05-21T06:11:43.859278Z",
     "iopub.status.idle": "2024-05-21T06:11:43.864855Z",
     "shell.execute_reply": "2024-05-21T06:11:43.864410Z"
    }
   },
   "outputs": [],
   "source": [
    "def insert_data(paramtype, npoints, nreps=1):\n",
    "\n",
    "    meas = Measurement(exp=exp)\n",
    "\n",
    "    x1 = ManualParameter('x1')\n",
    "    x2 = ManualParameter('x2')\n",
    "    x3 = ManualParameter('x3')\n",
    "    y1 = ManualParameter('y1')\n",
    "    y2 = ManualParameter('y2')\n",
    "\n",
    "    meas.register_parameter(x1, paramtype=paramtype)\n",
    "    meas.register_parameter(x2, paramtype=paramtype)\n",
    "    meas.register_parameter(x3, paramtype=paramtype)\n",
    "    meas.register_parameter(y1, setpoints=[x1, x2, x3],\n",
    "                            paramtype=paramtype)\n",
    "    meas.register_parameter(y2, setpoints=[x1, x2, x3],\n",
    "                            paramtype=paramtype)\n",
    "    start = time.perf_counter()\n",
    "    with meas.run() as datasaver:\n",
    "        start_adding = time.perf_counter()\n",
    "        for i in range(nreps):\n",
    "            datasaver.add_result((x1, np.random.rand(npoints)),\n",
    "                                 (x2, np.random.rand(npoints)),\n",
    "                                 (x3, np.random.rand(npoints)),\n",
    "                                 (y1, np.random.rand(npoints)),\n",
    "                                 (y2, np.random.rand(npoints)))\n",
    "        stop_adding = time.perf_counter()\n",
    "        run_id = datasaver.run_id\n",
    "    stop = time.perf_counter()\n",
    "    tot_time = stop - start\n",
    "    add_time = stop_adding - start_adding\n",
    "    return tot_time, add_time, run_id"
   ]
  },
  {
   "cell_type": "markdown",
   "metadata": {},
   "source": [
    "## Comparison between numeric/array data and binary blob"
   ]
  },
  {
   "cell_type": "markdown",
   "metadata": {},
   "source": [
    "### Case1: Short experiment time"
   ]
  },
  {
   "cell_type": "code",
   "execution_count": 5,
   "metadata": {
    "execution": {
     "iopub.execute_input": "2024-05-21T06:11:43.867059Z",
     "iopub.status.busy": "2024-05-21T06:11:43.866643Z",
     "iopub.status.idle": "2024-05-21T06:11:44.279127Z",
     "shell.execute_reply": "2024-05-21T06:11:44.278530Z"
    }
   },
   "outputs": [
    {
     "name": "stdout",
     "output_type": "stream",
     "text": [
      "Starting experimental run with id: 1. \n",
      "Starting experimental run with id: 2. \n",
      "Starting experimental run with id: 3. \n",
      "Starting experimental run with id: 4. \n",
      "Starting experimental run with id: 5. \n",
      "Starting experimental run with id: 6. \n",
      "Starting experimental run with id: 7. \n",
      "Starting experimental run with id: 8. \n",
      "Starting experimental run with id: 9. \n"
     ]
    },
    {
     "name": "stdout",
     "output_type": "stream",
     "text": [
      "Starting experimental run with id: 10. \n",
      "Starting experimental run with id: 11. \n",
      "Starting experimental run with id: 12. \n",
      "Starting experimental run with id: 13. \n",
      "Starting experimental run with id: 14. \n"
     ]
    }
   ],
   "source": [
    "sizes = [1,500,1000,2000,3000,4000,5000]\n",
    "t_numeric = []\n",
    "t_numeric_add = []\n",
    "t_array = []\n",
    "t_array_add = []\n",
    "for size in sizes:\n",
    "    tn, tna, run_id_n =  insert_data('numeric', size)\n",
    "    t_numeric.append(tn)\n",
    "    t_numeric_add.append(tna)\n",
    "\n",
    "    ta, taa, run_id_a =  insert_data('array', size)\n",
    "    t_array.append(ta)\n",
    "    t_array_add.append(taa)"
   ]
  },
  {
   "cell_type": "code",
   "execution_count": 6,
   "metadata": {
    "execution": {
     "iopub.execute_input": "2024-05-21T06:11:44.281264Z",
     "iopub.status.busy": "2024-05-21T06:11:44.281081Z",
     "iopub.status.idle": "2024-05-21T06:11:44.449768Z",
     "shell.execute_reply": "2024-05-21T06:11:44.449153Z"
    }
   },
   "outputs": [
    {
     "data": {
      "image/png": "[encoded data removed]",
      "text/plain": [
       "<Figure size 640x480 with 1 Axes>"
      ]
     },
     "metadata": {},
     "output_type": "display_data"
    }
   ],
   "source": [
    "fig, ax = plt.subplots(1,1)\n",
    "ax.plot(sizes, t_numeric, 'o-', label='Inserting row-by-row')\n",
    "ax.plot(sizes, t_numeric_add, 'o-', label='Inserting row-by-row: add_result only')\n",
    "ax.plot(sizes, t_array, 'd-', label='Inserting as binary blob')\n",
    "ax.plot(sizes, t_array_add, 'd-', label='Inserting as binary blob: add_result only')\n",
    "ax.legend()\n",
    "ax.set_xlabel('Array length')\n",
    "ax.set_ylabel('Time (s)')\n",
    "fig.tight_layout()"
   ]
  },
  {
   "cell_type": "markdown",
   "metadata": {},
   "source": [
    "As shown in the latter figure, the time to setup and and close the experiment is approximately 0.4 sec. In case of small array sizes, the difference between inserting values of data as arrays and inserting them row-by-row is relatively unimportant. At larger array sizes, i.e. above 10000 points, the cost of writing data as individual datapoints starts to become important.\n"
   ]
  },
  {
   "cell_type": "markdown",
   "metadata": {},
   "source": [
    "### Case2: Long experiment time "
   ]
  },
  {
   "cell_type": "code",
   "execution_count": 7,
   "metadata": {
    "execution": {
     "iopub.execute_input": "2024-05-21T06:11:44.452138Z",
     "iopub.status.busy": "2024-05-21T06:11:44.451791Z",
     "iopub.status.idle": "2024-05-21T06:12:04.533195Z",
     "shell.execute_reply": "2024-05-21T06:12:04.532506Z"
    }
   },
   "outputs": [
    {
     "name": "stdout",
     "output_type": "stream",
     "text": [
      "Starting experimental run with id: 15. \n",
      "Starting experimental run with id: 16. \n",
      "Starting experimental run with id: 17. \n"
     ]
    },
    {
     "name": "stdout",
     "output_type": "stream",
     "text": [
      "Starting experimental run with id: 18. \n",
      "Starting experimental run with id: 19. \n"
     ]
    },
    {
     "name": "stdout",
     "output_type": "stream",
     "text": [
      "Starting experimental run with id: 20. \n",
      "Starting experimental run with id: 21. \n"
     ]
    },
    {
     "name": "stdout",
     "output_type": "stream",
     "text": [
      "Starting experimental run with id: 22. \n",
      "Starting experimental run with id: 23. \n"
     ]
    },
    {
     "name": "stdout",
     "output_type": "stream",
     "text": [
      "Starting experimental run with id: 24. \n"
     ]
    },
    {
     "name": "stdout",
     "output_type": "stream",
     "text": [
      "Starting experimental run with id: 25. \n"
     ]
    },
    {
     "name": "stdout",
     "output_type": "stream",
     "text": [
      "Starting experimental run with id: 26. \n"
     ]
    },
    {
     "name": "stdout",
     "output_type": "stream",
     "text": [
      "Starting experimental run with id: 27. \n"
     ]
    },
    {
     "name": "stdout",
     "output_type": "stream",
     "text": [
      "Starting experimental run with id: 28. \n"
     ]
    }
   ],
   "source": [
    "sizes = [1,500,1000,2000,3000,4000,5000]\n",
    "nreps = 100\n",
    "t_numeric = []\n",
    "t_numeric_add = []\n",
    "t_numeric_run_ids = []\n",
    "t_array = []\n",
    "t_array_add = []\n",
    "t_array_run_ids = []\n",
    "for size in sizes:\n",
    "    tn, tna, run_id_n =  insert_data('numeric', size, nreps=nreps)\n",
    "    t_numeric.append(tn)\n",
    "    t_numeric_add.append(tna)\n",
    "    t_numeric_run_ids.append(run_id_n)\n",
    "\n",
    "    ta, taa, run_id_a =  insert_data('array', size, nreps=nreps)\n",
    "    t_array.append(ta)\n",
    "    t_array_add.append(taa)\n",
    "    t_array_run_ids.append(run_id_a)"
   ]
  },
  {
   "cell_type": "code",
   "execution_count": 8,
   "metadata": {
    "execution": {
     "iopub.execute_input": "2024-05-21T06:12:04.536012Z",
     "iopub.status.busy": "2024-05-21T06:12:04.535756Z",
     "iopub.status.idle": "2024-05-21T06:12:04.725346Z",
     "shell.execute_reply": "2024-05-21T06:12:04.724718Z"
    },
    "scrolled": true
   },
   "outputs": [
    {
     "data": {
      "image/png": "[encoded data removed]",
      "text/plain": [
       "<Figure size 640x480 with 1 Axes>"
      ]
     },
     "metadata": {},
     "output_type": "display_data"
    }
   ],
   "source": [
    "fig, ax = plt.subplots(1,1)\n",
    "ax.plot(sizes, t_numeric, 'o-', label='Inserting row-by-row')\n",
    "ax.plot(sizes, t_numeric_add, 'o-', label='Inserting row-by-row: add_result only')\n",
    "ax.plot(sizes, t_array, 'd-', label='Inserting as binary blob')\n",
    "ax.plot(sizes, t_array_add, 'd-', label='Inserting as binary blob: add_result only')\n",
    "ax.legend()\n",
    "ax.set_xlabel('Array length')\n",
    "ax.set_ylabel('Time (s)')\n",
    "fig.tight_layout()"
   ]
  },
  {
   "cell_type": "markdown",
   "metadata": {},
   "source": [
    "However, as we increase the length of the experiment, as seen here by repeating the insertion 100 times, we see a big difference between inserting values of the data row-by-row and inserting it as a binary blob."
   ]
  },
  {
   "cell_type": "markdown",
   "metadata": {},
   "source": [
    "## Loading the data "
   ]
  },
  {
   "cell_type": "code",
   "execution_count": 9,
   "metadata": {
    "execution": {
     "iopub.execute_input": "2024-05-21T06:12:04.728551Z",
     "iopub.status.busy": "2024-05-21T06:12:04.728124Z",
     "iopub.status.idle": "2024-05-21T06:12:04.731302Z",
     "shell.execute_reply": "2024-05-21T06:12:04.730727Z"
    }
   },
   "outputs": [],
   "source": [
    "from qcodes.dataset import load_by_id"
   ]
  },
  {
   "cell_type": "markdown",
   "metadata": {},
   "source": [
    "As usual you can load the data by using the ``load_by_id`` function but you will notice that the different storage methods\n",
    "are reflected in shape of the data as it is retrieved. "
   ]
  },
  {
   "cell_type": "code",
   "execution_count": 10,
   "metadata": {
    "execution": {
     "iopub.execute_input": "2024-05-21T06:12:04.733878Z",
     "iopub.status.busy": "2024-05-21T06:12:04.733514Z",
     "iopub.status.idle": "2024-05-21T06:12:04.736685Z",
     "shell.execute_reply": "2024-05-21T06:12:04.735906Z"
    }
   },
   "outputs": [],
   "source": [
    "run_id_n = t_numeric_run_ids[0]\n",
    "run_id_a = t_array_run_ids[0]"
   ]
  },
  {
   "cell_type": "code",
   "execution_count": 11,
   "metadata": {
    "execution": {
     "iopub.execute_input": "2024-05-21T06:12:04.739502Z",
     "iopub.status.busy": "2024-05-21T06:12:04.739125Z",
     "iopub.status.idle": "2024-05-21T06:12:04.749450Z",
     "shell.execute_reply": "2024-05-21T06:12:04.748869Z"
    },
    "scrolled": true
   },
   "outputs": [
    {
     "data": {
      "text/plain": [
       "{'x1': {'x1': array([0.0820043 , 0.0820043 , 0.43990767, 0.43990767, 0.36652996,\n",
       "         0.36652996, 0.76323992, 0.76323992, 0.68291029, 0.68291029,\n",
       "         0.72730393, 0.72730393, 0.23854005, 0.23854005, 0.78500048,\n",
       "         0.78500048, 0.14769474, 0.14769474, 0.98892187, 0.98892187,\n",
       "         0.22645384, 0.22645384, 0.54774011, 0.54774011, 0.22991039,\n",
       "         0.22991039, 0.06032262, 0.06032262, 0.34659135, 0.34659135,\n",
       "         0.3403283 , 0.3403283 , 0.25195912, 0.25195912, 0.29681601,\n",
       "         0.29681601, 0.32702462, 0.32702462, 0.23557935, 0.23557935,\n",
       "         0.55273336, 0.55273336, 0.28539239, 0.28539239, 0.90319555,\n",
       "         0.90319555, 0.56066753, 0.56066753, 0.76865383, 0.76865383,\n",
       "         0.58233349, 0.58233349, 0.45815848, 0.45815848, 0.15142396,\n",
       "         0.15142396, 0.71780618, 0.71780618, 0.20248099, 0.20248099,\n",
       "         0.59547863, 0.59547863, 0.02942185, 0.02942185, 0.12844736,\n",
       "         0.12844736, 0.63187442, 0.63187442, 0.75611378, 0.75611378,\n",
       "         0.03528659, 0.03528659, 0.85137344, 0.85137344, 0.31717507,\n",
       "         0.31717507, 0.29026918, 0.29026918, 0.27854701, 0.27854701,\n",
       "         0.54746222, 0.54746222, 0.45325608, 0.45325608, 0.45343028,\n",
       "         0.45343028, 0.9153544 , 0.9153544 , 0.13303988, 0.13303988,\n",
       "         0.05002201, 0.05002201, 0.16808188, 0.16808188, 0.04650903,\n",
       "         0.04650903, 0.23935009, 0.23935009, 0.56470744, 0.56470744,\n",
       "         0.46803782, 0.46803782, 0.75564593, 0.75564593, 0.82106413,\n",
       "         0.82106413, 0.56524057, 0.56524057, 0.82270502, 0.82270502,\n",
       "         0.68802429, 0.68802429, 0.0315834 , 0.0315834 , 0.25924162,\n",
       "         0.25924162, 0.34178144, 0.34178144, 0.38230198, 0.38230198,\n",
       "         0.75449743, 0.75449743, 0.57273466, 0.57273466, 0.17269192,\n",
       "         0.17269192, 0.84196913, 0.84196913, 0.35206283, 0.35206283,\n",
       "         0.86873676, 0.86873676, 0.53295566, 0.53295566, 0.83028533,\n",
       "         0.83028533, 0.03033487, 0.03033487, 0.08207587, 0.08207587,\n",
       "         0.71210745, 0.71210745, 0.52902599, 0.52902599, 0.43995295,\n",
       "         0.43995295, 0.1099693 , 0.1099693 , 0.24896357, 0.24896357,\n",
       "         0.23294546, 0.23294546, 0.33822748, 0.33822748, 0.80101152,\n",
       "         0.80101152, 0.33011918, 0.33011918, 0.17796621, 0.17796621,\n",
       "         0.89122539, 0.89122539, 0.78772926, 0.78772926, 0.99552114,\n",
       "         0.99552114, 0.63506523, 0.63506523, 0.07455127, 0.07455127,\n",
       "         0.74182136, 0.74182136, 0.71901333, 0.71901333, 0.46373429,\n",
       "         0.46373429, 0.8143543 , 0.8143543 , 0.97941173, 0.97941173,\n",
       "         0.38753549, 0.38753549, 0.12080065, 0.12080065, 0.52318424,\n",
       "         0.52318424, 0.04951707, 0.04951707, 0.20247355, 0.20247355,\n",
       "         0.82793212, 0.82793212, 0.36464278, 0.36464278, 0.59180051,\n",
       "         0.59180051, 0.03667843, 0.03667843, 0.83270137, 0.83270137])}}"
      ]
     },
     "execution_count": 11,
     "metadata": {},
     "output_type": "execute_result"
    }
   ],
   "source": [
    "ds = load_by_id(run_id_n)\n",
    "ds.get_parameter_data('x1')"
   ]
  },
  {
   "cell_type": "markdown",
   "metadata": {},
   "source": [
    "And a dataset stored as binary arrays"
   ]
  },
  {
   "cell_type": "code",
   "execution_count": 12,
   "metadata": {
    "execution": {
     "iopub.execute_input": "2024-05-21T06:12:04.752131Z",
     "iopub.status.busy": "2024-05-21T06:12:04.751961Z",
     "iopub.status.idle": "2024-05-21T06:12:04.768708Z",
     "shell.execute_reply": "2024-05-21T06:12:04.768149Z"
    },
    "scrolled": true
   },
   "outputs": [
    {
     "data": {
      "text/plain": [
       "{'x1': {'x1': array([[0.60773032],\n",
       "         [0.60773032],\n",
       "         [0.18783058],\n",
       "         [0.18783058],\n",
       "         [0.64409354],\n",
       "         [0.64409354],\n",
       "         [0.64498472],\n",
       "         [0.64498472],\n",
       "         [0.2617735 ],\n",
       "         [0.2617735 ],\n",
       "         [0.58961468],\n",
       "         [0.58961468],\n",
       "         [0.08156286],\n",
       "         [0.08156286],\n",
       "         [0.14491644],\n",
       "         [0.14491644],\n",
       "         [0.29538797],\n",
       "         [0.29538797],\n",
       "         [0.13657728],\n",
       "         [0.13657728],\n",
       "         [0.62755331],\n",
       "         [0.62755331],\n",
       "         [0.79583006],\n",
       "         [0.79583006],\n",
       "         [0.38297189],\n",
       "         [0.38297189],\n",
       "         [0.5025055 ],\n",
       "         [0.5025055 ],\n",
       "         [0.99765407],\n",
       "         [0.99765407],\n",
       "         [0.82602438],\n",
       "         [0.82602438],\n",
       "         [0.70015822],\n",
       "         [0.70015822],\n",
       "         [0.2372214 ],\n",
       "         [0.2372214 ],\n",
       "         [0.05311127],\n",
       "         [0.05311127],\n",
       "         [0.93484625],\n",
       "         [0.93484625],\n",
       "         [0.24454471],\n",
       "         [0.24454471],\n",
       "         [0.53074354],\n",
       "         [0.53074354],\n",
       "         [0.15760578],\n",
       "         [0.15760578],\n",
       "         [0.65062249],\n",
       "         [0.65062249],\n",
       "         [0.85565571],\n",
       "         [0.85565571],\n",
       "         [0.25459179],\n",
       "         [0.25459179],\n",
       "         [0.15195653],\n",
       "         [0.15195653],\n",
       "         [0.79771863],\n",
       "         [0.79771863],\n",
       "         [0.90724242],\n",
       "         [0.90724242],\n",
       "         [0.95798448],\n",
       "         [0.95798448],\n",
       "         [0.47658643],\n",
       "         [0.47658643],\n",
       "         [0.63189183],\n",
       "         [0.63189183],\n",
       "         [0.71168259],\n",
       "         [0.71168259],\n",
       "         [0.32257437],\n",
       "         [0.32257437],\n",
       "         [0.3481162 ],\n",
       "         [0.3481162 ],\n",
       "         [0.8416199 ],\n",
       "         [0.8416199 ],\n",
       "         [0.06907244],\n",
       "         [0.06907244],\n",
       "         [0.83749075],\n",
       "         [0.83749075],\n",
       "         [0.18478593],\n",
       "         [0.18478593],\n",
       "         [0.73071196],\n",
       "         [0.73071196],\n",
       "         [0.5041016 ],\n",
       "         [0.5041016 ],\n",
       "         [0.53124479],\n",
       "         [0.53124479],\n",
       "         [0.1146648 ],\n",
       "         [0.1146648 ],\n",
       "         [0.54894628],\n",
       "         [0.54894628],\n",
       "         [0.53148324],\n",
       "         [0.53148324],\n",
       "         [0.695257  ],\n",
       "         [0.695257  ],\n",
       "         [0.72612731],\n",
       "         [0.72612731],\n",
       "         [0.01245601],\n",
       "         [0.01245601],\n",
       "         [0.9269341 ],\n",
       "         [0.9269341 ],\n",
       "         [0.45421047],\n",
       "         [0.45421047],\n",
       "         [0.63945571],\n",
       "         [0.63945571],\n",
       "         [0.20895064],\n",
       "         [0.20895064],\n",
       "         [0.1699958 ],\n",
       "         [0.1699958 ],\n",
       "         [0.29533021],\n",
       "         [0.29533021],\n",
       "         [0.98239436],\n",
       "         [0.98239436],\n",
       "         [0.13863125],\n",
       "         [0.13863125],\n",
       "         [0.63263288],\n",
       "         [0.63263288],\n",
       "         [0.2608702 ],\n",
       "         [0.2608702 ],\n",
       "         [0.19619191],\n",
       "         [0.19619191],\n",
       "         [0.7214774 ],\n",
       "         [0.7214774 ],\n",
       "         [0.64449884],\n",
       "         [0.64449884],\n",
       "         [0.14593597],\n",
       "         [0.14593597],\n",
       "         [0.96690513],\n",
       "         [0.96690513],\n",
       "         [0.20497879],\n",
       "         [0.20497879],\n",
       "         [0.68615453],\n",
       "         [0.68615453],\n",
       "         [0.71681968],\n",
       "         [0.71681968],\n",
       "         [0.23758767],\n",
       "         [0.23758767],\n",
       "         [0.65943291],\n",
       "         [0.65943291],\n",
       "         [0.02932694],\n",
       "         [0.02932694],\n",
       "         [0.47019279],\n",
       "         [0.47019279],\n",
       "         [0.13814838],\n",
       "         [0.13814838],\n",
       "         [0.16443157],\n",
       "         [0.16443157],\n",
       "         [0.32692841],\n",
       "         [0.32692841],\n",
       "         [0.77141496],\n",
       "         [0.77141496],\n",
       "         [0.51397986],\n",
       "         [0.51397986],\n",
       "         [0.44353126],\n",
       "         [0.44353126],\n",
       "         [0.24025289],\n",
       "         [0.24025289],\n",
       "         [0.62544495],\n",
       "         [0.62544495],\n",
       "         [0.87908567],\n",
       "         [0.87908567],\n",
       "         [0.87600462],\n",
       "         [0.87600462],\n",
       "         [0.74551929],\n",
       "         [0.74551929],\n",
       "         [0.1621591 ],\n",
       "         [0.1621591 ],\n",
       "         [0.88540826],\n",
       "         [0.88540826],\n",
       "         [0.53477326],\n",
       "         [0.53477326],\n",
       "         [0.36376626],\n",
       "         [0.36376626],\n",
       "         [0.42436642],\n",
       "         [0.42436642],\n",
       "         [0.63155729],\n",
       "         [0.63155729],\n",
       "         [0.54730264],\n",
       "         [0.54730264],\n",
       "         [0.70714053],\n",
       "         [0.70714053],\n",
       "         [0.7749373 ],\n",
       "         [0.7749373 ],\n",
       "         [0.21621603],\n",
       "         [0.21621603],\n",
       "         [0.31337374],\n",
       "         [0.31337374],\n",
       "         [0.09598448],\n",
       "         [0.09598448],\n",
       "         [0.52954449],\n",
       "         [0.52954449],\n",
       "         [0.25920169],\n",
       "         [0.25920169],\n",
       "         [0.04880274],\n",
       "         [0.04880274],\n",
       "         [0.22293097],\n",
       "         [0.22293097],\n",
       "         [0.09669144],\n",
       "         [0.09669144],\n",
       "         [0.20621744],\n",
       "         [0.20621744],\n",
       "         [0.5558937 ],\n",
       "         [0.5558937 ]])}}"
      ]
     },
     "execution_count": 12,
     "metadata": {},
     "output_type": "execute_result"
    }
   ],
   "source": [
    "ds = load_by_id(run_id_a)\n",
    "ds.get_parameter_data('x1')"
   ]
  },
  {
   "cell_type": "code",
   "execution_count": null,
   "metadata": {},
   "outputs": [],
   "source": []
  }
 ],
 "metadata": {
  "kernelspec": {
   "display_name": "Python 3",
   "language": "python",
   "name": "python3"
  },
  "language_info": {
   "codemirror_mode": {
    "name": "ipython",
    "version": 3
   },
   "file_extension": ".py",
   "mimetype": "text/x-python",
   "name": "python",
   "nbconvert_exporter": "python",
   "pygments_lexer": "ipython3",
   "version": "3.11.9"
  },
  "nbsphinx": {
   "timeout": 600
  },
  "toc": {
   "base_numbering": 1,
   "nav_menu": {},
   "number_sections": true,
   "sideBar": true,
   "skip_h1_title": false,
   "title_cell": "Table of Contents",
   "title_sidebar": "Contents",
   "toc_cell": false,
   "toc_position": {},
   "toc_section_display": true,
   "toc_window_display": false
  },
  "varInspector": {
   "cols": {
    "lenName": 16,
    "lenType": 16,
    "lenVar": 40
   },
   "kernels_config": {
    "python": {
     "delete_cmd_postfix": "",
     "delete_cmd_prefix": "del ",
     "library": "var_list.py",
     "varRefreshCmd": "print(var_dic_list())"
    },
    "r": {
     "delete_cmd_postfix": ") ",
     "delete_cmd_prefix": "rm(",
     "library": "var_list.r",
     "varRefreshCmd": "cat(var_dic_list()) "
    }
   },
   "types_to_exclude": [
    "module",
    "function",
    "builtin_function_or_method",
    "instance",
    "_Feature"
   ],
   "window_display": false
  }
 },
 "nbformat": 4,
 "nbformat_minor": 4
}
