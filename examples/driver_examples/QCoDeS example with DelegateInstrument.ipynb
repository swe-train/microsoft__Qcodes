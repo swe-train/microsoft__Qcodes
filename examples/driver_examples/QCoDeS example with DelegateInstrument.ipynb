{
 "cells": [
  {
   "cell_type": "markdown",
   "id": "plain-primary",
   "metadata": {},
   "source": [
    "# Qcodes example with DelegateInstrument driver\n",
    "\n",
    "This notebooks explains how to use the `DelegateInstrument` driver.\n",
    "\n",
    "## About\n",
    "The goal of the `DelegateInstrument` driver is to make it easier to combine different parameters together into a new \"virtual\" instrument. Each parameter on a `DelegateInstrument` can point to one or more parameters on other instruments in the station.\n",
    "\n",
    "## Usage\n",
    "The way it's used is mainly by specifying an entry in the station YAML. For instance, let's say you want to use a magnetic field coil. The driver has a method set_field(value, block), that by default is set to block=True, which means the field is ramped in a way that blocks further execution until the desired value is reached. However, let's say you are creating a measurement in which you want the parameter to be set, and while the value is ramping, you want to measure other parameters. This can be done by using `DelegateInstrument` and specifying a custom `setter` for the parameter that gets and sets the magnetic field.\n",
    "\n",
    "By default, each parameter is represented by a `DelegateParameter`. The `DelegateInstrument` also supports passing multiple source parameters to a given parameter. In order to do this, simply specify multiple parameters in the dictionary values  under the `parameters` key.\n",
    "\n",
    "It can also add instrument channels, specified under a separate key `channels`, shown in the second half of the notebook."
   ]
  },
  {
   "cell_type": "code",
   "execution_count": 1,
   "id": "sapphire-quebec",
   "metadata": {
    "execution": {
     "iopub.execute_input": "2024-05-21T06:11:11.728102Z",
     "iopub.status.busy": "2024-05-21T06:11:11.727243Z",
     "iopub.status.idle": "2024-05-21T06:11:11.735210Z",
     "shell.execute_reply": "2024-05-21T06:11:11.734563Z"
    }
   },
   "outputs": [
    {
     "name": "stdout",
     "output_type": "stream",
     "text": [
      "Writing example.yaml\n"
     ]
    }
   ],
   "source": [
    "%%writefile example.yaml\n",
    "\n",
    "instruments:\n",
    "  field_X:\n",
    "    type: qcodes.instrument_drivers.mock_instruments.MockField\n",
    "\n",
    "  field:\n",
    "    type: qcodes.instrument.delegate.DelegateInstrument\n",
    "    init:\n",
    "      parameters:\n",
    "        X:\n",
    "          - field_X.field\n",
    "        ramp_rate:\n",
    "          - field_X.ramp_rate\n",
    "        combined:\n",
    "          - field_X.field\n",
    "          - field_X.ramp_rate\n",
    "      set_initial_values_on_load: true\n",
    "      initial_values:\n",
    "        ramp_rate: 1.0\n",
    "      setters:\n",
    "        X:\n",
    "          method: field_X.set_field\n",
    "          block: false"
   ]
  },
  {
   "cell_type": "code",
   "execution_count": 2,
   "id": "younger-newspaper",
   "metadata": {
    "execution": {
     "iopub.execute_input": "2024-05-21T06:11:11.737564Z",
     "iopub.status.busy": "2024-05-21T06:11:11.737337Z",
     "iopub.status.idle": "2024-05-21T06:11:12.710345Z",
     "shell.execute_reply": "2024-05-21T06:11:12.709853Z"
    }
   },
   "outputs": [
    {
     "name": "stdout",
     "output_type": "stream",
     "text": [
      "Logging hadn't been started.\n",
      "Activating auto-logging. Current session state plus future input saved.\n",
      "Filename       : /home/runner/.qcodes/logs/command_history.log\n",
      "Mode           : append\n",
      "Output logging : True\n",
      "Raw input log  : False\n",
      "Timestamping   : True\n",
      "State          : active\n"
     ]
    },
    {
     "name": "stdout",
     "output_type": "stream",
     "text": [
      "Qcodes Logfile : /home/runner/.qcodes/logs/240521-6185-qcodes.log\n"
     ]
    }
   ],
   "source": [
    "import qcodes as qc\n",
    "from qcodes.dataset import (\n",
    "    Measurement,\n",
    "    initialise_or_create_database_at,\n",
    "    load_or_create_experiment,\n",
    ")"
   ]
  },
  {
   "cell_type": "code",
   "execution_count": 3,
   "id": "muslim-briefs",
   "metadata": {
    "execution": {
     "iopub.execute_input": "2024-05-21T06:11:12.712972Z",
     "iopub.status.busy": "2024-05-21T06:11:12.712662Z",
     "iopub.status.idle": "2024-05-21T06:11:12.738474Z",
     "shell.execute_reply": "2024-05-21T06:11:12.737075Z"
    }
   },
   "outputs": [],
   "source": [
    "station = qc.Station(config_file=\"example.yaml\")"
   ]
  },
  {
   "cell_type": "code",
   "execution_count": 4,
   "id": "greatest-antenna",
   "metadata": {
    "execution": {
     "iopub.execute_input": "2024-05-21T06:11:12.741666Z",
     "iopub.status.busy": "2024-05-21T06:11:12.741443Z",
     "iopub.status.idle": "2024-05-21T06:11:12.764175Z",
     "shell.execute_reply": "2024-05-21T06:11:12.763580Z"
    }
   },
   "outputs": [],
   "source": [
    "field_X = station.load_field_X()\n",
    "field = station.load_field(station=station)"
   ]
  },
  {
   "cell_type": "code",
   "execution_count": 5,
   "id": "every-playing",
   "metadata": {
    "execution": {
     "iopub.execute_input": "2024-05-21T06:11:12.768564Z",
     "iopub.status.busy": "2024-05-21T06:11:12.768045Z",
     "iopub.status.idle": "2024-05-21T06:11:12.774455Z",
     "shell.execute_reply": "2024-05-21T06:11:12.773847Z"
    }
   },
   "outputs": [
    {
     "data": {
      "text/plain": [
       "0.0"
      ]
     },
     "execution_count": 5,
     "metadata": {},
     "output_type": "execute_result"
    }
   ],
   "source": [
    "field.X()"
   ]
  },
  {
   "cell_type": "code",
   "execution_count": 6,
   "id": "undefined-worst",
   "metadata": {
    "execution": {
     "iopub.execute_input": "2024-05-21T06:11:12.776733Z",
     "iopub.status.busy": "2024-05-21T06:11:12.776452Z",
     "iopub.status.idle": "2024-05-21T06:11:12.779643Z",
     "shell.execute_reply": "2024-05-21T06:11:12.779123Z"
    }
   },
   "outputs": [],
   "source": [
    "field.X(1.)"
   ]
  },
  {
   "cell_type": "code",
   "execution_count": 7,
   "id": "recreational-suggestion",
   "metadata": {
    "execution": {
     "iopub.execute_input": "2024-05-21T06:11:12.782877Z",
     "iopub.status.busy": "2024-05-21T06:11:12.782648Z",
     "iopub.status.idle": "2024-05-21T06:11:12.786948Z",
     "shell.execute_reply": "2024-05-21T06:11:12.786392Z"
    }
   },
   "outputs": [
    {
     "data": {
      "text/plain": [
       "9.945233662923177e-05"
      ]
     },
     "execution_count": 7,
     "metadata": {},
     "output_type": "execute_result"
    }
   ],
   "source": [
    "field.X()"
   ]
  },
  {
   "cell_type": "code",
   "execution_count": 8,
   "id": "adopted-exchange",
   "metadata": {
    "execution": {
     "iopub.execute_input": "2024-05-21T06:11:12.789354Z",
     "iopub.status.busy": "2024-05-21T06:11:12.788995Z",
     "iopub.status.idle": "2024-05-21T06:11:12.793132Z",
     "shell.execute_reply": "2024-05-21T06:11:12.792671Z"
    }
   },
   "outputs": [
    {
     "data": {
      "text/plain": [
       "0.0002047141393025716"
      ]
     },
     "execution_count": 8,
     "metadata": {},
     "output_type": "execute_result"
    }
   ],
   "source": [
    "field.X()"
   ]
  },
  {
   "cell_type": "code",
   "execution_count": 9,
   "id": "bound-broadcasting",
   "metadata": {
    "execution": {
     "iopub.execute_input": "2024-05-21T06:11:12.795346Z",
     "iopub.status.busy": "2024-05-21T06:11:12.795003Z",
     "iopub.status.idle": "2024-05-21T06:11:12.799641Z",
     "shell.execute_reply": "2024-05-21T06:11:12.798791Z"
    }
   },
   "outputs": [
    {
     "data": {
      "text/plain": [
       "0.0003079414367675781"
      ]
     },
     "execution_count": 9,
     "metadata": {},
     "output_type": "execute_result"
    }
   ],
   "source": [
    "field.X()"
   ]
  },
  {
   "cell_type": "code",
   "execution_count": 10,
   "id": "casual-ghost",
   "metadata": {
    "execution": {
     "iopub.execute_input": "2024-05-21T06:11:12.802231Z",
     "iopub.status.busy": "2024-05-21T06:11:12.801989Z",
     "iopub.status.idle": "2024-05-21T06:11:12.805789Z",
     "shell.execute_reply": "2024-05-21T06:11:12.805346Z"
    }
   },
   "outputs": [
    {
     "data": {
      "text/plain": [
       "0.00042095184326171873"
      ]
     },
     "execution_count": 10,
     "metadata": {},
     "output_type": "execute_result"
    }
   ],
   "source": [
    "field.X()"
   ]
  },
  {
   "cell_type": "markdown",
   "id": "alike-process",
   "metadata": {},
   "source": [
    "As you can see, the field is now ramped in the background with the specified ramp rate. Now, let's try to create a measurement that uses this ability, and ramps the field in the background while measuring:"
   ]
  },
  {
   "cell_type": "code",
   "execution_count": 11,
   "id": "sustained-tiger",
   "metadata": {
    "execution": {
     "iopub.execute_input": "2024-05-21T06:11:12.807927Z",
     "iopub.status.busy": "2024-05-21T06:11:12.807603Z",
     "iopub.status.idle": "2024-05-21T06:11:12.813310Z",
     "shell.execute_reply": "2024-05-21T06:11:12.812735Z"
    }
   },
   "outputs": [],
   "source": [
    "field.ramp_rate(10.)\n",
    "field_X.field(0.0)"
   ]
  },
  {
   "cell_type": "code",
   "execution_count": 12,
   "id": "pharmaceutical-partition",
   "metadata": {
    "execution": {
     "iopub.execute_input": "2024-05-21T06:11:12.816024Z",
     "iopub.status.busy": "2024-05-21T06:11:12.815631Z",
     "iopub.status.idle": "2024-05-21T06:11:12.819723Z",
     "shell.execute_reply": "2024-05-21T06:11:12.819240Z"
    }
   },
   "outputs": [
    {
     "data": {
      "text/plain": [
       "0.0"
      ]
     },
     "execution_count": 12,
     "metadata": {},
     "output_type": "execute_result"
    }
   ],
   "source": [
    "field.X()"
   ]
  },
  {
   "cell_type": "code",
   "execution_count": 13,
   "id": "happy-ordinance",
   "metadata": {
    "execution": {
     "iopub.execute_input": "2024-05-21T06:11:12.822131Z",
     "iopub.status.busy": "2024-05-21T06:11:12.821795Z",
     "iopub.status.idle": "2024-05-21T06:11:14.106538Z",
     "shell.execute_reply": "2024-05-21T06:11:14.105858Z"
    }
   },
   "outputs": [
    {
     "name": "stdout",
     "output_type": "stream",
     "text": [
      "Starting experimental run with id: 1. \n"
     ]
    }
   ],
   "source": [
    "import time\n",
    "\n",
    "initialise_or_create_database_at(\"delegate_instrument_example.db\")\n",
    "load_or_create_experiment(\"delegate_instrument_experiment\")\n",
    "\n",
    "meas = Measurement(station=station)\n",
    "meas.register_parameter(field.X)\n",
    "\n",
    "with meas.run() as datasaver:\n",
    "    for B in [0.1, 0.0]:\n",
    "        field.X(B)\n",
    "        while field.X() != B:\n",
    "            datasaver.add_result((field.X, field.X()))\n",
    "            time.sleep(0.01)\n",
    "    datasaver.flush_data_to_database()"
   ]
  },
  {
   "cell_type": "code",
   "execution_count": 14,
   "id": "short-medium",
   "metadata": {
    "execution": {
     "iopub.execute_input": "2024-05-21T06:11:14.109475Z",
     "iopub.status.busy": "2024-05-21T06:11:14.109196Z",
     "iopub.status.idle": "2024-05-21T06:11:14.781302Z",
     "shell.execute_reply": "2024-05-21T06:11:14.780697Z"
    }
   },
   "outputs": [
    {
     "data": {
      "text/plain": [
       "<Axes: >"
      ]
     },
     "execution_count": 14,
     "metadata": {},
     "output_type": "execute_result"
    },
    {
     "data": {
      "image/png": "[encoded data removed]",
      "text/plain": [
       "<Figure size 640x480 with 1 Axes>"
      ]
     },
     "metadata": {},
     "output_type": "display_data"
    }
   ],
   "source": [
    "datasaver.dataset.to_pandas_dataframe().plot()"
   ]
  },
  {
   "cell_type": "markdown",
   "id": "incomplete-vietnamese",
   "metadata": {},
   "source": [
    "When specifying multiple source parameters on a given parameter, the grouped parameter will automatically return a `namedtuple` that returns both values."
   ]
  },
  {
   "cell_type": "code",
   "execution_count": 15,
   "id": "dangerous-finder",
   "metadata": {
    "execution": {
     "iopub.execute_input": "2024-05-21T06:11:14.784231Z",
     "iopub.status.busy": "2024-05-21T06:11:14.784038Z",
     "iopub.status.idle": "2024-05-21T06:11:14.788092Z",
     "shell.execute_reply": "2024-05-21T06:11:14.787559Z"
    }
   },
   "outputs": [
    {
     "data": {
      "text/plain": [
       "combined(field=0.0, ramp_rate=10.0)"
      ]
     },
     "execution_count": 15,
     "metadata": {},
     "output_type": "execute_result"
    }
   ],
   "source": [
    "field.combined()"
   ]
  },
  {
   "cell_type": "markdown",
   "id": "consolidated-cooper",
   "metadata": {},
   "source": [
    "We can now also create a custom parameter that does a simple calculation based on the current parameters."
   ]
  },
  {
   "cell_type": "code",
   "execution_count": 16,
   "id": "designed-bloom",
   "metadata": {
    "execution": {
     "iopub.execute_input": "2024-05-21T06:11:14.791116Z",
     "iopub.status.busy": "2024-05-21T06:11:14.790685Z",
     "iopub.status.idle": "2024-05-21T06:11:14.795703Z",
     "shell.execute_reply": "2024-05-21T06:11:14.795182Z"
    }
   },
   "outputs": [],
   "source": [
    "import numpy as np\n",
    "\n",
    "\n",
    "def calculate_ramp_time(X, ramp_rate):\n",
    "    \"\"\"Calculate ramp time in seconds\"\"\"\n",
    "    dfield = np.abs(field.target_field - X)\n",
    "    return 60. * dfield/ramp_rate"
   ]
  },
  {
   "cell_type": "code",
   "execution_count": 17,
   "id": "disabled-logic",
   "metadata": {
    "execution": {
     "iopub.execute_input": "2024-05-21T06:11:14.798213Z",
     "iopub.status.busy": "2024-05-21T06:11:14.797865Z",
     "iopub.status.idle": "2024-05-21T06:11:14.801149Z",
     "shell.execute_reply": "2024-05-21T06:11:14.800608Z"
    },
    "scrolled": true
   },
   "outputs": [],
   "source": [
    "field._create_and_add_parameter(\n",
    "    group_name=\"ramp_time\",\n",
    "    station=station,\n",
    "    paths=[\"field_X.field\", \"field_X.ramp_rate\"],\n",
    "    formatter=calculate_ramp_time\n",
    ")"
   ]
  },
  {
   "cell_type": "code",
   "execution_count": 18,
   "id": "adverse-february",
   "metadata": {
    "execution": {
     "iopub.execute_input": "2024-05-21T06:11:14.803789Z",
     "iopub.status.busy": "2024-05-21T06:11:14.803489Z",
     "iopub.status.idle": "2024-05-21T06:11:14.807844Z",
     "shell.execute_reply": "2024-05-21T06:11:14.807304Z"
    }
   },
   "outputs": [
    {
     "data": {
      "text/plain": [
       "6.0"
      ]
     },
     "execution_count": 18,
     "metadata": {},
     "output_type": "execute_result"
    }
   ],
   "source": [
    "field.ramp_rate(1.0)\n",
    "field.target_field = 0.1\n",
    "field.ramp_time()"
   ]
  },
  {
   "cell_type": "code",
   "execution_count": 19,
   "id": "statutory-xerox",
   "metadata": {
    "execution": {
     "iopub.execute_input": "2024-05-21T06:11:14.810490Z",
     "iopub.status.busy": "2024-05-21T06:11:14.810109Z",
     "iopub.status.idle": "2024-05-21T06:11:14.813099Z",
     "shell.execute_reply": "2024-05-21T06:11:14.812557Z"
    }
   },
   "outputs": [],
   "source": [
    "field.X(0.1)"
   ]
  },
  {
   "cell_type": "code",
   "execution_count": 20,
   "id": "varying-auditor",
   "metadata": {
    "execution": {
     "iopub.execute_input": "2024-05-21T06:11:14.815663Z",
     "iopub.status.busy": "2024-05-21T06:11:14.815323Z",
     "iopub.status.idle": "2024-05-21T06:11:14.819605Z",
     "shell.execute_reply": "2024-05-21T06:11:14.818964Z"
    }
   },
   "outputs": [
    {
     "data": {
      "text/plain": [
       "5.995155096054077"
      ]
     },
     "execution_count": 20,
     "metadata": {},
     "output_type": "execute_result"
    }
   ],
   "source": [
    "field.ramp_time()"
   ]
  },
  {
   "cell_type": "code",
   "execution_count": 21,
   "id": "chubby-nickel",
   "metadata": {
    "execution": {
     "iopub.execute_input": "2024-05-21T06:11:14.822050Z",
     "iopub.status.busy": "2024-05-21T06:11:14.821548Z",
     "iopub.status.idle": "2024-05-21T06:11:15.827002Z",
     "shell.execute_reply": "2024-05-21T06:11:15.826380Z"
    }
   },
   "outputs": [
    {
     "data": {
      "text/plain": [
       "4.988065004348756"
      ]
     },
     "execution_count": 21,
     "metadata": {},
     "output_type": "execute_result"
    }
   ],
   "source": [
    "import time\n",
    "\n",
    "time.sleep(1.)\n",
    "field.ramp_time()"
   ]
  },
  {
   "cell_type": "code",
   "execution_count": 22,
   "id": "italian-liberty",
   "metadata": {
    "execution": {
     "iopub.execute_input": "2024-05-21T06:11:15.829683Z",
     "iopub.status.busy": "2024-05-21T06:11:15.829223Z",
     "iopub.status.idle": "2024-05-21T06:11:16.834686Z",
     "shell.execute_reply": "2024-05-21T06:11:16.834072Z"
    }
   },
   "outputs": [
    {
     "data": {
      "text/plain": [
       "3.980196952819824"
      ]
     },
     "execution_count": 22,
     "metadata": {},
     "output_type": "execute_result"
    }
   ],
   "source": [
    "import time\n",
    "\n",
    "time.sleep(1.)\n",
    "field.ramp_time()"
   ]
  },
  {
   "attachments": {},
   "cell_type": "markdown",
   "id": "c1145a2d",
   "metadata": {},
   "source": [
    "## Devices with channels"
   ]
  },
  {
   "cell_type": "markdown",
   "id": "182693f8",
   "metadata": {},
   "source": [
    "The YAML file below specifies the instruments with the channels/parameters we wish to group into a new instrument, here called \"device\". The first example simply adds the channel 'as is' using self.add_submodule, while the readout parameter is added as a DelegateParameter."
   ]
  },
  {
   "cell_type": "code",
   "execution_count": 23,
   "id": "a88d5103",
   "metadata": {
    "execution": {
     "iopub.execute_input": "2024-05-21T06:11:16.837565Z",
     "iopub.status.busy": "2024-05-21T06:11:16.837144Z",
     "iopub.status.idle": "2024-05-21T06:11:16.841281Z",
     "shell.execute_reply": "2024-05-21T06:11:16.840730Z"
    }
   },
   "outputs": [
    {
     "name": "stdout",
     "output_type": "stream",
     "text": [
      "Overwriting example.yaml\n"
     ]
    }
   ],
   "source": [
    "%%writefile example.yaml\n",
    "\n",
    "instruments:\n",
    "  lockin:\n",
    "    type: qcodes.instrument_drivers.mock_instruments.MockLockin\n",
    "\n",
    "  dac:\n",
    "    type: qcodes.instrument_drivers.mock_instruments.MockDAC\n",
    "\n",
    "  device:\n",
    "    type: qcodes.instrument.delegate.DelegateInstrument\n",
    "    init:\n",
    "      parameters:\n",
    "        readout: lockin.X\n",
    "      channels:\n",
    "        gate_1: dac.ch01\n",
    "      set_initial_values_on_load: true\n",
    "      initial_values:\n",
    "        readout: 1e-5\n",
    "        gate_1.voltage.post_delay: 0.01"
   ]
  },
  {
   "cell_type": "code",
   "execution_count": 24,
   "id": "91f2a8ab",
   "metadata": {
    "execution": {
     "iopub.execute_input": "2024-05-21T06:11:16.843860Z",
     "iopub.status.busy": "2024-05-21T06:11:16.843386Z",
     "iopub.status.idle": "2024-05-21T06:11:16.853373Z",
     "shell.execute_reply": "2024-05-21T06:11:16.852851Z"
    }
   },
   "outputs": [],
   "source": [
    "station = qc.Station(config_file=\"example.yaml\")"
   ]
  },
  {
   "cell_type": "code",
   "execution_count": 25,
   "id": "45b22762",
   "metadata": {
    "execution": {
     "iopub.execute_input": "2024-05-21T06:11:16.855797Z",
     "iopub.status.busy": "2024-05-21T06:11:16.855443Z",
     "iopub.status.idle": "2024-05-21T06:11:16.887722Z",
     "shell.execute_reply": "2024-05-21T06:11:16.887085Z"
    }
   },
   "outputs": [],
   "source": [
    "lockin = station.load_lockin()\n",
    "dac = station.load_dac()\n",
    "device = station.load_device(station=station)"
   ]
  },
  {
   "cell_type": "code",
   "execution_count": 26,
   "id": "9bfa54fb",
   "metadata": {
    "execution": {
     "iopub.execute_input": "2024-05-21T06:11:16.890558Z",
     "iopub.status.busy": "2024-05-21T06:11:16.890043Z",
     "iopub.status.idle": "2024-05-21T06:11:16.894020Z",
     "shell.execute_reply": "2024-05-21T06:11:16.893463Z"
    }
   },
   "outputs": [
    {
     "name": "stdout",
     "output_type": "stream",
     "text": [
      "<MockDACChannel: dac_ch01 of MockDAC: dac>\n",
      "0.01\n"
     ]
    }
   ],
   "source": [
    "print(device.gate_1)\n",
    "print(device.gate_1.voltage.post_delay)"
   ]
  },
  {
   "cell_type": "code",
   "execution_count": 27,
   "id": "91d57fe0",
   "metadata": {
    "execution": {
     "iopub.execute_input": "2024-05-21T06:11:16.896265Z",
     "iopub.status.busy": "2024-05-21T06:11:16.895918Z",
     "iopub.status.idle": "2024-05-21T06:11:16.911540Z",
     "shell.execute_reply": "2024-05-21T06:11:16.910888Z"
    }
   },
   "outputs": [
    {
     "name": "stdout",
     "output_type": "stream",
     "text": [
      "0.0\n"
     ]
    },
    {
     "data": {
      "text/plain": [
       "-0.6"
      ]
     },
     "execution_count": 27,
     "metadata": {},
     "output_type": "execute_result"
    }
   ],
   "source": [
    "print(device.gate_1.voltage())\n",
    "device.gate_1.voltage(-0.6)\n",
    "device.gate_1.voltage()"
   ]
  },
  {
   "cell_type": "markdown",
   "id": "37e1c2c3",
   "metadata": {},
   "source": [
    "The second example adds a channel using a custom channel class, which takes the initial channel and its name as input and has a parameter current_valid_ranges."
   ]
  },
  {
   "cell_type": "code",
   "execution_count": 28,
   "id": "7e4becd1",
   "metadata": {
    "execution": {
     "iopub.execute_input": "2024-05-21T06:11:16.914429Z",
     "iopub.status.busy": "2024-05-21T06:11:16.913932Z",
     "iopub.status.idle": "2024-05-21T06:11:16.918891Z",
     "shell.execute_reply": "2024-05-21T06:11:16.918254Z"
    }
   },
   "outputs": [
    {
     "name": "stdout",
     "output_type": "stream",
     "text": [
      "Overwriting example.yaml\n"
     ]
    }
   ],
   "source": [
    "%%writefile example.yaml\n",
    "\n",
    "instruments:\n",
    "  lockin:\n",
    "    type: qcodes.instrument_drivers.mock_instruments.MockLockin\n",
    "\n",
    "  dac:\n",
    "    type: qcodes.instrument_drivers.mock_instruments.MockDAC\n",
    "\n",
    "  device:\n",
    "    type: qcodes.instrument.delegate.DelegateInstrument\n",
    "    init:\n",
    "      parameters:\n",
    "        readout: lockin.X\n",
    "      channels:\n",
    "        type: qcodes.instrument_drivers.mock_instruments.MockCustomChannel\n",
    "        gate_1:\n",
    "          channel: dac.ch01\n",
    "          current_valid_range: [-0.5, 0]\n",
    "      set_initial_values_on_load: true\n",
    "      initial_values:\n",
    "        readout: 1e-5"
   ]
  },
  {
   "cell_type": "code",
   "execution_count": 29,
   "id": "2e3ca8d5",
   "metadata": {
    "execution": {
     "iopub.execute_input": "2024-05-21T06:11:16.921302Z",
     "iopub.status.busy": "2024-05-21T06:11:16.920899Z",
     "iopub.status.idle": "2024-05-21T06:11:16.924467Z",
     "shell.execute_reply": "2024-05-21T06:11:16.923880Z"
    }
   },
   "outputs": [],
   "source": [
    "lockin.close()\n",
    "dac.close()"
   ]
  },
  {
   "cell_type": "code",
   "execution_count": 30,
   "id": "2f2d2b2b",
   "metadata": {
    "execution": {
     "iopub.execute_input": "2024-05-21T06:11:16.926949Z",
     "iopub.status.busy": "2024-05-21T06:11:16.926548Z",
     "iopub.status.idle": "2024-05-21T06:11:16.963177Z",
     "shell.execute_reply": "2024-05-21T06:11:16.962530Z"
    }
   },
   "outputs": [],
   "source": [
    "station = qc.Station(config_file=\"example.yaml\")\n",
    "lockin = station.load_lockin()\n",
    "dac = station.load_dac()"
   ]
  },
  {
   "cell_type": "code",
   "execution_count": 31,
   "id": "9cb653b0",
   "metadata": {
    "execution": {
     "iopub.execute_input": "2024-05-21T06:11:16.966301Z",
     "iopub.status.busy": "2024-05-21T06:11:16.965902Z",
     "iopub.status.idle": "2024-05-21T06:11:16.977645Z",
     "shell.execute_reply": "2024-05-21T06:11:16.977066Z"
    }
   },
   "outputs": [],
   "source": [
    "device = station.load_device(station=station)"
   ]
  },
  {
   "cell_type": "code",
   "execution_count": 32,
   "id": "433d9646",
   "metadata": {
    "execution": {
     "iopub.execute_input": "2024-05-21T06:11:16.980394Z",
     "iopub.status.busy": "2024-05-21T06:11:16.979793Z",
     "iopub.status.idle": "2024-05-21T06:11:16.984537Z",
     "shell.execute_reply": "2024-05-21T06:11:16.983985Z"
    }
   },
   "outputs": [
    {
     "data": {
      "text/plain": [
       "<MockCustomChannel: dac_gate_1 of MockDAC: dac>"
      ]
     },
     "execution_count": 32,
     "metadata": {},
     "output_type": "execute_result"
    }
   ],
   "source": [
    "device.gate_1"
   ]
  },
  {
   "cell_type": "code",
   "execution_count": 33,
   "id": "3d2b8faa",
   "metadata": {
    "execution": {
     "iopub.execute_input": "2024-05-21T06:11:16.986913Z",
     "iopub.status.busy": "2024-05-21T06:11:16.986433Z",
     "iopub.status.idle": "2024-05-21T06:11:16.989636Z",
     "shell.execute_reply": "2024-05-21T06:11:16.989075Z"
    }
   },
   "outputs": [],
   "source": [
    "device.gate_1.voltage(-0.3)"
   ]
  },
  {
   "cell_type": "code",
   "execution_count": 34,
   "id": "49def342",
   "metadata": {
    "execution": {
     "iopub.execute_input": "2024-05-21T06:11:16.992027Z",
     "iopub.status.busy": "2024-05-21T06:11:16.991549Z",
     "iopub.status.idle": "2024-05-21T06:11:16.996044Z",
     "shell.execute_reply": "2024-05-21T06:11:16.995485Z"
    }
   },
   "outputs": [
    {
     "data": {
      "text/plain": [
       "-0.3"
      ]
     },
     "execution_count": 34,
     "metadata": {},
     "output_type": "execute_result"
    }
   ],
   "source": [
    "device.gate_1.voltage()"
   ]
  },
  {
   "cell_type": "markdown",
   "id": "7b122128",
   "metadata": {},
   "source": [
    "The MockCustomChannel has a parameter `current_valid_range`."
   ]
  },
  {
   "cell_type": "code",
   "execution_count": 35,
   "id": "d32a06fd",
   "metadata": {
    "execution": {
     "iopub.execute_input": "2024-05-21T06:11:16.998352Z",
     "iopub.status.busy": "2024-05-21T06:11:16.997961Z",
     "iopub.status.idle": "2024-05-21T06:11:17.002467Z",
     "shell.execute_reply": "2024-05-21T06:11:17.001856Z"
    }
   },
   "outputs": [
    {
     "data": {
      "text/plain": [
       "[-0.5, 0]"
      ]
     },
     "execution_count": 35,
     "metadata": {},
     "output_type": "execute_result"
    }
   ],
   "source": [
    "device.gate_1.current_valid_range()"
   ]
  }
 ],
 "metadata": {
  "kernelspec": {
   "display_name": "Python 3 (ipykernel)",
   "language": "python",
   "name": "python3"
  },
  "language_info": {
   "codemirror_mode": {
    "name": "ipython",
    "version": 3
   },
   "file_extension": ".py",
   "mimetype": "text/x-python",
   "name": "python",
   "nbconvert_exporter": "python",
   "pygments_lexer": "ipython3",
   "version": "3.11.9"
  }
 },
 "nbformat": 4,
 "nbformat_minor": 5
}
