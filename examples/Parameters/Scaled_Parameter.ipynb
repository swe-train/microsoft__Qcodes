{
 "cells": [
  {
   "cell_type": "markdown",
   "metadata": {},
   "source": [
    "# ScaledParameter\n",
    "Sometimes the values that we set/get on the computer are not the physical value that reach/originate from the sample. The ScaledParameter can be used to convert quantities with a simple linear relationship without offset."
   ]
  },
  {
   "cell_type": "code",
   "execution_count": 1,
   "metadata": {
    "execution": {
     "iopub.execute_input": "2024-05-21T06:16:33.098816Z",
     "iopub.status.busy": "2024-05-21T06:16:33.098251Z",
     "iopub.status.idle": "2024-05-21T06:16:34.038270Z",
     "shell.execute_reply": "2024-05-21T06:16:34.037500Z"
    }
   },
   "outputs": [
    {
     "name": "stdout",
     "output_type": "stream",
     "text": [
      "Logging hadn't been started.\n",
      "Activating auto-logging. Current session state plus future input saved.\n",
      "Filename       : /home/runner/.qcodes/logs/command_history.log\n",
      "Mode           : append\n",
      "Output logging : True\n",
      "Raw input log  : False\n",
      "Timestamping   : True\n",
      "State          : active\n"
     ]
    },
    {
     "name": "stdout",
     "output_type": "stream",
     "text": [
      "Qcodes Logfile : /home/runner/.qcodes/logs/240521-18295-qcodes.log\n"
     ]
    }
   ],
   "source": [
    "from qcodes.parameters import ManualParameter, ScaledParameter"
   ]
  },
  {
   "cell_type": "code",
   "execution_count": 2,
   "metadata": {
    "execution": {
     "iopub.execute_input": "2024-05-21T06:16:34.040974Z",
     "iopub.status.busy": "2024-05-21T06:16:34.040580Z",
     "iopub.status.idle": "2024-05-21T06:16:34.044565Z",
     "shell.execute_reply": "2024-05-21T06:16:34.043937Z"
    }
   },
   "outputs": [],
   "source": [
    "dac0 = ManualParameter('dac0', unit = 'V')\n",
    "dac1 = ManualParameter('dac1', unit = 'V')\n",
    "amplitude = ManualParameter('amplitude', initial_value=3.14, unit = 'V')"
   ]
  },
  {
   "cell_type": "markdown",
   "metadata": {},
   "source": [
    "## Resistive voltage divider\n",
    "The simplest case is a resistive divider, where the set voltage is divided by a fixed amount."
   ]
  },
  {
   "cell_type": "code",
   "execution_count": 3,
   "metadata": {
    "execution": {
     "iopub.execute_input": "2024-05-21T06:16:34.047117Z",
     "iopub.status.busy": "2024-05-21T06:16:34.046680Z",
     "iopub.status.idle": "2024-05-21T06:16:34.050269Z",
     "shell.execute_reply": "2024-05-21T06:16:34.049703Z"
    }
   },
   "outputs": [],
   "source": [
    "vd = ScaledParameter(dac0, division = 10)"
   ]
  },
  {
   "cell_type": "code",
   "execution_count": 4,
   "metadata": {
    "execution": {
     "iopub.execute_input": "2024-05-21T06:16:34.052763Z",
     "iopub.status.busy": "2024-05-21T06:16:34.052353Z",
     "iopub.status.idle": "2024-05-21T06:16:34.055573Z",
     "shell.execute_reply": "2024-05-21T06:16:34.054975Z"
    }
   },
   "outputs": [],
   "source": [
    "vd(10)"
   ]
  },
  {
   "cell_type": "code",
   "execution_count": 5,
   "metadata": {
    "execution": {
     "iopub.execute_input": "2024-05-21T06:16:34.057781Z",
     "iopub.status.busy": "2024-05-21T06:16:34.057586Z",
     "iopub.status.idle": "2024-05-21T06:16:34.061375Z",
     "shell.execute_reply": "2024-05-21T06:16:34.060736Z"
    }
   },
   "outputs": [
    {
     "name": "stdout",
     "output_type": "stream",
     "text": [
      "Vd = 10.0 V , real setted value = 100 V\n"
     ]
    }
   ],
   "source": [
    "print('Vd =',vd(), vd.unit,', real setted value =', dac0(), dac0.unit)"
   ]
  },
  {
   "cell_type": "markdown",
   "metadata": {},
   "source": [
    "## Voltage multiplier\n",
    "If the voltage is amplified, we can specify a `gain` value instead of `division`."
   ]
  },
  {
   "cell_type": "code",
   "execution_count": 6,
   "metadata": {
    "execution": {
     "iopub.execute_input": "2024-05-21T06:16:34.063602Z",
     "iopub.status.busy": "2024-05-21T06:16:34.063420Z",
     "iopub.status.idle": "2024-05-21T06:16:34.066623Z",
     "shell.execute_reply": "2024-05-21T06:16:34.066031Z"
    }
   },
   "outputs": [],
   "source": [
    "vb = ScaledParameter(dac1, gain = 30, name = 'Vb')"
   ]
  },
  {
   "cell_type": "code",
   "execution_count": 7,
   "metadata": {
    "execution": {
     "iopub.execute_input": "2024-05-21T06:16:34.068776Z",
     "iopub.status.busy": "2024-05-21T06:16:34.068413Z",
     "iopub.status.idle": "2024-05-21T06:16:34.071461Z",
     "shell.execute_reply": "2024-05-21T06:16:34.070887Z"
    }
   },
   "outputs": [],
   "source": [
    "vb(5)"
   ]
  },
  {
   "cell_type": "code",
   "execution_count": 8,
   "metadata": {
    "execution": {
     "iopub.execute_input": "2024-05-21T06:16:34.073853Z",
     "iopub.status.busy": "2024-05-21T06:16:34.073668Z",
     "iopub.status.idle": "2024-05-21T06:16:34.077591Z",
     "shell.execute_reply": "2024-05-21T06:16:34.076878Z"
    }
   },
   "outputs": [
    {
     "name": "stdout",
     "output_type": "stream",
     "text": [
      "Vb = 10.0 V , Original_value = 0.16666666666666666 V\n"
     ]
    }
   ],
   "source": [
    "print('Vb =',vd(), vb.unit,', Original_value =', dac1(), dac1.unit)"
   ]
  },
  {
   "cell_type": "markdown",
   "metadata": {},
   "source": [
    "## Transimpedance amplifier\n",
    "The ScaledParameter can be used also for quantities that are read, like a current read by a transimpedance amplifier, digitized by a multimeter.\n",
    "We can also specify a different unit from the wrapped parameter. The semantic of gain/division is inverted compared to the previous cases, since it is a value that we read."
   ]
  },
  {
   "cell_type": "code",
   "execution_count": 9,
   "metadata": {
    "execution": {
     "iopub.execute_input": "2024-05-21T06:16:34.080038Z",
     "iopub.status.busy": "2024-05-21T06:16:34.079610Z",
     "iopub.status.idle": "2024-05-21T06:16:34.083271Z",
     "shell.execute_reply": "2024-05-21T06:16:34.082697Z"
    }
   },
   "outputs": [],
   "source": [
    "Id = ScaledParameter(amplitude, division = 1e6, name = 'Id', unit = 'A')"
   ]
  },
  {
   "cell_type": "code",
   "execution_count": 10,
   "metadata": {
    "execution": {
     "iopub.execute_input": "2024-05-21T06:16:34.085714Z",
     "iopub.status.busy": "2024-05-21T06:16:34.085292Z",
     "iopub.status.idle": "2024-05-21T06:16:34.089415Z",
     "shell.execute_reply": "2024-05-21T06:16:34.088839Z"
    }
   },
   "outputs": [
    {
     "name": "stdout",
     "output_type": "stream",
     "text": [
      "Id = 3.14e-06 A , Read_value = 3.14 V\n"
     ]
    }
   ],
   "source": [
    "print('Id =',Id(), Id.unit,', Read_value =', amplitude(), amplitude.unit)"
   ]
  },
  {
   "cell_type": "markdown",
   "metadata": {},
   "source": [
    "The gain can be manually changed at any time"
   ]
  },
  {
   "cell_type": "code",
   "execution_count": 11,
   "metadata": {
    "execution": {
     "iopub.execute_input": "2024-05-21T06:16:34.092187Z",
     "iopub.status.busy": "2024-05-21T06:16:34.091796Z",
     "iopub.status.idle": "2024-05-21T06:16:34.095847Z",
     "shell.execute_reply": "2024-05-21T06:16:34.095167Z"
    }
   },
   "outputs": [
    {
     "name": "stdout",
     "output_type": "stream",
     "text": [
      "Id = 3.14e-08 A , Read_value = 3.14 V\n"
     ]
    }
   ],
   "source": [
    "Id.division = 1e8\n",
    "print('Id =',Id(), Id.unit,', Read_value =', amplitude(), amplitude.unit)"
   ]
  },
  {
   "cell_type": "markdown",
   "metadata": {},
   "source": [
    "The gain/division can be itself a Qcodes paramter, for example if is a gain set by a remote instrument"
   ]
  },
  {
   "cell_type": "code",
   "execution_count": 12,
   "metadata": {
    "execution": {
     "iopub.execute_input": "2024-05-21T06:16:34.098089Z",
     "iopub.status.busy": "2024-05-21T06:16:34.097905Z",
     "iopub.status.idle": "2024-05-21T06:16:34.101208Z",
     "shell.execute_reply": "2024-05-21T06:16:34.100578Z"
    }
   },
   "outputs": [],
   "source": [
    "remote_gain = ManualParameter('remote_gain', initial_value=1e6, unit = 'V/A')"
   ]
  },
  {
   "cell_type": "code",
   "execution_count": 13,
   "metadata": {
    "execution": {
     "iopub.execute_input": "2024-05-21T06:16:34.103399Z",
     "iopub.status.busy": "2024-05-21T06:16:34.103212Z",
     "iopub.status.idle": "2024-05-21T06:16:34.106932Z",
     "shell.execute_reply": "2024-05-21T06:16:34.106264Z"
    }
   },
   "outputs": [
    {
     "name": "stdout",
     "output_type": "stream",
     "text": [
      "Id = 3.14e-06 A , Read_value = 3.14 V\n"
     ]
    }
   ],
   "source": [
    "Id.division = remote_gain\n",
    "print('Id =',Id(), Id.unit,', Read_value =', amplitude(), amplitude.unit)"
   ]
  },
  {
   "cell_type": "code",
   "execution_count": 14,
   "metadata": {
    "execution": {
     "iopub.execute_input": "2024-05-21T06:16:34.109301Z",
     "iopub.status.busy": "2024-05-21T06:16:34.108926Z",
     "iopub.status.idle": "2024-05-21T06:16:34.112774Z",
     "shell.execute_reply": "2024-05-21T06:16:34.112150Z"
    }
   },
   "outputs": [
    {
     "name": "stdout",
     "output_type": "stream",
     "text": [
      "Id = 3.14e-08 A , Read_value = 3.14 V\n"
     ]
    }
   ],
   "source": [
    "remote_gain(1e8)\n",
    "print('Id =',Id(), Id.unit,', Read_value =', amplitude(), amplitude.unit)"
   ]
  }
 ],
 "metadata": {
  "kernelspec": {
   "display_name": "Python 3",
   "language": "python",
   "name": "python3"
  },
  "language_info": {
   "codemirror_mode": {
    "name": "ipython",
    "version": 3
   },
   "file_extension": ".py",
   "mimetype": "text/x-python",
   "name": "python",
   "nbconvert_exporter": "python",
   "pygments_lexer": "ipython3",
   "version": "3.11.9"
  },
  "toc": {
   "base_numbering": 1,
   "nav_menu": {},
   "number_sections": true,
   "sideBar": true,
   "skip_h1_title": false,
   "title_cell": "Table of Contents",
   "title_sidebar": "Contents",
   "toc_cell": false,
   "toc_position": {},
   "toc_section_display": true,
   "toc_window_display": false
  },
  "varInspector": {
   "cols": {
    "lenName": 16,
    "lenType": 16,
    "lenVar": 40
   },
   "kernels_config": {
    "python": {
     "delete_cmd_postfix": "",
     "delete_cmd_prefix": "del ",
     "library": "var_list.py",
     "varRefreshCmd": "print(var_dic_list())"
    },
    "r": {
     "delete_cmd_postfix": ") ",
     "delete_cmd_prefix": "rm(",
     "library": "var_list.r",
     "varRefreshCmd": "cat(var_dic_list()) "
    }
   },
   "types_to_exclude": [
    "module",
    "function",
    "builtin_function_or_method",
    "instance",
    "_Feature"
   ],
   "window_display": false
  }
 },
 "nbformat": 4,
 "nbformat_minor": 2
}
